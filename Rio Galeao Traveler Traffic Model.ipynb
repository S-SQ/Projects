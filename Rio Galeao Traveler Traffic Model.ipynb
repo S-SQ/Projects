{
 "cells": [
  {
   "cell_type": "code",
   "execution_count": 1,
   "metadata": {},
   "outputs": [],
   "source": [
    "import pandas as pd\n",
    "import numpy as np\n",
    "import matplotlib.pyplot as plt"
   ]
  },
  {
   "cell_type": "code",
   "execution_count": 2,
   "metadata": {},
   "outputs": [],
   "source": [
    "df1 = pd.read_csv('TPS1_2_w_Areasv2.csv')"
   ]
  },
  {
   "cell_type": "code",
   "execution_count": 3,
   "metadata": {},
   "outputs": [],
   "source": [
    "df1['Level_2'] = 1"
   ]
  },
  {
   "cell_type": "code",
   "execution_count": 4,
   "metadata": {},
   "outputs": [
    {
     "name": "stderr",
     "output_type": "stream",
     "text": [
      "C:\\Users\\ssq10\\Anaconda3\\lib\\site-packages\\IPython\\core\\interactiveshell.py:3063: DtypeWarning: Columns (3,4) have mixed types.Specify dtype option on import or set low_memory=False.\n",
      "  interactivity=interactivity, compiler=compiler, result=result)\n"
     ]
    }
   ],
   "source": [
    "df2 = pd.read_csv('TPS1_3_w_Areasv2.csv')"
   ]
  },
  {
   "cell_type": "code",
   "execution_count": 5,
   "metadata": {},
   "outputs": [],
   "source": [
    "df2['Level_2'] = 0"
   ]
  },
  {
   "cell_type": "code",
   "execution_count": 6,
   "metadata": {},
   "outputs": [],
   "source": [
    "df_comb = pd.DataFrame()\n",
    "df_comb = df1.append(df2)"
   ]
  },
  {
   "cell_type": "code",
   "execution_count": 7,
   "metadata": {},
   "outputs": [
    {
     "data": {
      "text/plain": [
       "(378330, 10)"
      ]
     },
     "execution_count": 7,
     "metadata": {},
     "output_type": "execute_result"
    }
   ],
   "source": [
    "df1.shape"
   ]
  },
  {
   "cell_type": "code",
   "execution_count": 8,
   "metadata": {},
   "outputs": [
    {
     "data": {
      "text/plain": [
       "(248695, 10)"
      ]
     },
     "execution_count": 8,
     "metadata": {},
     "output_type": "execute_result"
    }
   ],
   "source": [
    "df2.shape"
   ]
  },
  {
   "cell_type": "code",
   "execution_count": 9,
   "metadata": {},
   "outputs": [
    {
     "data": {
      "text/plain": [
       "(627025, 10)"
      ]
     },
     "execution_count": 9,
     "metadata": {},
     "output_type": "execute_result"
    }
   ],
   "source": [
    "df_comb.shape"
   ]
  },
  {
   "cell_type": "code",
   "execution_count": 10,
   "metadata": {},
   "outputs": [],
   "source": [
    "df_ap = pd.read_csv('cleaned_flight_datav2.csv')"
   ]
  },
  {
   "cell_type": "code",
   "execution_count": 11,
   "metadata": {},
   "outputs": [
    {
     "data": {
      "text/html": [
       "<div>\n",
       "<style scoped>\n",
       "    .dataframe tbody tr th:only-of-type {\n",
       "        vertical-align: middle;\n",
       "    }\n",
       "\n",
       "    .dataframe tbody tr th {\n",
       "        vertical-align: top;\n",
       "    }\n",
       "\n",
       "    .dataframe thead th {\n",
       "        text-align: right;\n",
       "    }\n",
       "</style>\n",
       "<table border=\"1\" class=\"dataframe\">\n",
       "  <thead>\n",
       "    <tr style=\"text-align: right;\">\n",
       "      <th></th>\n",
       "      <th>Unnamed: 0</th>\n",
       "      <th>Airline</th>\n",
       "      <th>Departure</th>\n",
       "      <th>Canceled</th>\n",
       "      <th>Domestic</th>\n",
       "      <th>Delay</th>\n",
       "      <th>Sched_Time</th>\n",
       "    </tr>\n",
       "  </thead>\n",
       "  <tbody>\n",
       "    <tr>\n",
       "      <th>0</th>\n",
       "      <td>15</td>\n",
       "      <td>UAL</td>\n",
       "      <td>0</td>\n",
       "      <td>0</td>\n",
       "      <td>0</td>\n",
       "      <td>0.0</td>\n",
       "      <td>2019-08-01 10:15:00</td>\n",
       "    </tr>\n",
       "    <tr>\n",
       "      <th>1</th>\n",
       "      <td>17</td>\n",
       "      <td>GLO</td>\n",
       "      <td>0</td>\n",
       "      <td>0</td>\n",
       "      <td>1</td>\n",
       "      <td>0.0</td>\n",
       "      <td>2019-08-01 03:05:00</td>\n",
       "    </tr>\n",
       "    <tr>\n",
       "      <th>2</th>\n",
       "      <td>19</td>\n",
       "      <td>GLO</td>\n",
       "      <td>0</td>\n",
       "      <td>0</td>\n",
       "      <td>1</td>\n",
       "      <td>0.0</td>\n",
       "      <td>2019-08-01 02:05:00</td>\n",
       "    </tr>\n",
       "    <tr>\n",
       "      <th>3</th>\n",
       "      <td>26</td>\n",
       "      <td>TAM</td>\n",
       "      <td>0</td>\n",
       "      <td>0</td>\n",
       "      <td>1</td>\n",
       "      <td>1435.0</td>\n",
       "      <td>2019-08-01 01:20:00</td>\n",
       "    </tr>\n",
       "    <tr>\n",
       "      <th>4</th>\n",
       "      <td>27</td>\n",
       "      <td>DAL</td>\n",
       "      <td>0</td>\n",
       "      <td>0</td>\n",
       "      <td>0</td>\n",
       "      <td>0.0</td>\n",
       "      <td>2019-08-01 10:00:00</td>\n",
       "    </tr>\n",
       "  </tbody>\n",
       "</table>\n",
       "</div>"
      ],
      "text/plain": [
       "   Unnamed: 0 Airline  Departure  Canceled  Domestic   Delay  \\\n",
       "0          15     UAL          0         0         0     0.0   \n",
       "1          17     GLO          0         0         1     0.0   \n",
       "2          19     GLO          0         0         1     0.0   \n",
       "3          26     TAM          0         0         1  1435.0   \n",
       "4          27     DAL          0         0         0     0.0   \n",
       "\n",
       "            Sched_Time  \n",
       "0  2019-08-01 10:15:00  \n",
       "1  2019-08-01 03:05:00  \n",
       "2  2019-08-01 02:05:00  \n",
       "3  2019-08-01 01:20:00  \n",
       "4  2019-08-01 10:00:00  "
      ]
     },
     "execution_count": 11,
     "metadata": {},
     "output_type": "execute_result"
    }
   ],
   "source": [
    "df_ap.head()"
   ]
  },
  {
   "cell_type": "code",
   "execution_count": 12,
   "metadata": {},
   "outputs": [],
   "source": [
    "df_ap['localtime'] = pd.to_datetime(df_ap['Sched_Time'])\n",
    "df_ap.drop(columns = ['Sched_Time'], inplace=True)"
   ]
  },
  {
   "cell_type": "code",
   "execution_count": 13,
   "metadata": {},
   "outputs": [],
   "source": [
    "df_ap['International'] = 0\n",
    "df_ap.loc[df_ap['Domestic'] == 0, 'International'] = 1"
   ]
  },
  {
   "cell_type": "code",
   "execution_count": 14,
   "metadata": {},
   "outputs": [],
   "source": [
    "df_ap['Arrival'] = 0\n",
    "df_ap.loc[df_ap['Departure'] == 0, 'Arrival'] = 1"
   ]
  },
  {
   "cell_type": "code",
   "execution_count": 15,
   "metadata": {},
   "outputs": [
    {
     "data": {
      "text/plain": [
       "35"
      ]
     },
     "execution_count": 15,
     "metadata": {},
     "output_type": "execute_result"
    }
   ],
   "source": [
    "df_ap.Airline.nunique()"
   ]
  },
  {
   "cell_type": "code",
   "execution_count": 16,
   "metadata": {},
   "outputs": [
    {
     "data": {
      "text/html": [
       "<div>\n",
       "<style scoped>\n",
       "    .dataframe tbody tr th:only-of-type {\n",
       "        vertical-align: middle;\n",
       "    }\n",
       "\n",
       "    .dataframe tbody tr th {\n",
       "        vertical-align: top;\n",
       "    }\n",
       "\n",
       "    .dataframe thead th {\n",
       "        text-align: right;\n",
       "    }\n",
       "</style>\n",
       "<table border=\"1\" class=\"dataframe\">\n",
       "  <thead>\n",
       "    <tr style=\"text-align: right;\">\n",
       "      <th></th>\n",
       "      <th>Unnamed: 0</th>\n",
       "      <th>Airline</th>\n",
       "      <th>Departure</th>\n",
       "      <th>Canceled</th>\n",
       "      <th>Domestic</th>\n",
       "      <th>Delay</th>\n",
       "      <th>localtime</th>\n",
       "      <th>International</th>\n",
       "      <th>Arrival</th>\n",
       "    </tr>\n",
       "  </thead>\n",
       "  <tbody>\n",
       "    <tr>\n",
       "      <th>0</th>\n",
       "      <td>15</td>\n",
       "      <td>UAL</td>\n",
       "      <td>0</td>\n",
       "      <td>0</td>\n",
       "      <td>0</td>\n",
       "      <td>0.0</td>\n",
       "      <td>2019-08-01 10:15:00</td>\n",
       "      <td>1</td>\n",
       "      <td>1</td>\n",
       "    </tr>\n",
       "    <tr>\n",
       "      <th>1</th>\n",
       "      <td>17</td>\n",
       "      <td>GLO</td>\n",
       "      <td>0</td>\n",
       "      <td>0</td>\n",
       "      <td>1</td>\n",
       "      <td>0.0</td>\n",
       "      <td>2019-08-01 03:05:00</td>\n",
       "      <td>0</td>\n",
       "      <td>1</td>\n",
       "    </tr>\n",
       "    <tr>\n",
       "      <th>2</th>\n",
       "      <td>19</td>\n",
       "      <td>GLO</td>\n",
       "      <td>0</td>\n",
       "      <td>0</td>\n",
       "      <td>1</td>\n",
       "      <td>0.0</td>\n",
       "      <td>2019-08-01 02:05:00</td>\n",
       "      <td>0</td>\n",
       "      <td>1</td>\n",
       "    </tr>\n",
       "    <tr>\n",
       "      <th>3</th>\n",
       "      <td>26</td>\n",
       "      <td>TAM</td>\n",
       "      <td>0</td>\n",
       "      <td>0</td>\n",
       "      <td>1</td>\n",
       "      <td>1435.0</td>\n",
       "      <td>2019-08-01 01:20:00</td>\n",
       "      <td>0</td>\n",
       "      <td>1</td>\n",
       "    </tr>\n",
       "    <tr>\n",
       "      <th>4</th>\n",
       "      <td>27</td>\n",
       "      <td>DAL</td>\n",
       "      <td>0</td>\n",
       "      <td>0</td>\n",
       "      <td>0</td>\n",
       "      <td>0.0</td>\n",
       "      <td>2019-08-01 10:00:00</td>\n",
       "      <td>1</td>\n",
       "      <td>1</td>\n",
       "    </tr>\n",
       "  </tbody>\n",
       "</table>\n",
       "</div>"
      ],
      "text/plain": [
       "   Unnamed: 0 Airline  Departure  Canceled  Domestic   Delay  \\\n",
       "0          15     UAL          0         0         0     0.0   \n",
       "1          17     GLO          0         0         1     0.0   \n",
       "2          19     GLO          0         0         1     0.0   \n",
       "3          26     TAM          0         0         1  1435.0   \n",
       "4          27     DAL          0         0         0     0.0   \n",
       "\n",
       "            localtime  International  Arrival  \n",
       "0 2019-08-01 10:15:00              1        1  \n",
       "1 2019-08-01 03:05:00              0        1  \n",
       "2 2019-08-01 02:05:00              0        1  \n",
       "3 2019-08-01 01:20:00              0        1  \n",
       "4 2019-08-01 10:00:00              1        1  "
      ]
     },
     "execution_count": 16,
     "metadata": {},
     "output_type": "execute_result"
    }
   ],
   "source": [
    "df_ap.head()"
   ]
  },
  {
   "cell_type": "code",
   "execution_count": 17,
   "metadata": {},
   "outputs": [],
   "source": [
    "df_ap2 = df_ap.drop(columns = ['Unnamed: 0']) #, 'Airline'"
   ]
  },
  {
   "cell_type": "code",
   "execution_count": 18,
   "metadata": {},
   "outputs": [
    {
     "name": "stdout",
     "output_type": "stream",
     "text": [
      "<class 'pandas.core.frame.DataFrame'>\n",
      "RangeIndex: 42932 entries, 0 to 42931\n",
      "Data columns (total 8 columns):\n",
      " #   Column         Non-Null Count  Dtype         \n",
      "---  ------         --------------  -----         \n",
      " 0   Airline        42932 non-null  object        \n",
      " 1   Departure      42932 non-null  int64         \n",
      " 2   Canceled       42932 non-null  int64         \n",
      " 3   Domestic       42932 non-null  int64         \n",
      " 4   Delay          42620 non-null  float64       \n",
      " 5   localtime      42932 non-null  datetime64[ns]\n",
      " 6   International  42932 non-null  int64         \n",
      " 7   Arrival        42932 non-null  int64         \n",
      "dtypes: datetime64[ns](1), float64(1), int64(5), object(1)\n",
      "memory usage: 2.6+ MB\n"
     ]
    }
   ],
   "source": [
    "df_ap2.info()"
   ]
  },
  {
   "cell_type": "code",
   "execution_count": 19,
   "metadata": {},
   "outputs": [],
   "source": [
    "df_agg =  pd.DataFrame(\n",
    "    df_ap2.groupby([pd.Grouper(freq='1H',\n",
    "                               key='localtime')]).agg({'Departure': ['sum'],\n",
    "                                                        'Arrival': ['sum'],\n",
    "                                                        'Canceled': ['sum'],\n",
    "                                                        'Delay': ['mean'],\n",
    "                                                        'Domestic': ['sum'],\n",
    "                                                        'International': ['sum'],\n",
    "                                                       })).reset_index()"
   ]
  },
  {
   "cell_type": "code",
   "execution_count": 20,
   "metadata": {},
   "outputs": [],
   "source": [
    "df_agg.columns = [a_tuple[0] for a_tuple in df_agg.columns] # Flattens the column headers"
   ]
  },
  {
   "cell_type": "code",
   "execution_count": 21,
   "metadata": {},
   "outputs": [],
   "source": [
    "df_agg['Month'] = df_agg['localtime'].dt.strftime('%m')\n",
    "df_agg['Date'] = df_agg['localtime'].dt.strftime('%d')\n",
    "df_agg['Day'] = df_agg['localtime'].dt.dayofweek\n",
    "df_agg['Hour'] = df_agg['localtime'].dt.strftime('%H')"
   ]
  },
  {
   "cell_type": "code",
   "execution_count": 22,
   "metadata": {},
   "outputs": [
    {
     "data": {
      "text/plain": [
       "3682"
      ]
     },
     "execution_count": 22,
     "metadata": {},
     "output_type": "execute_result"
    }
   ],
   "source": [
    "len(df_agg)"
   ]
  },
  {
   "cell_type": "code",
   "execution_count": 23,
   "metadata": {},
   "outputs": [],
   "source": [
    "df_comb['localtime'] = pd.to_datetime(df_comb['localtime'], utc=True)"
   ]
  },
  {
   "cell_type": "code",
   "execution_count": 24,
   "metadata": {},
   "outputs": [],
   "source": [
    "# Convert From UTC\n",
    "df_comb['localtime'] +=  pd.to_timedelta(-3, unit='h')"
   ]
  },
  {
   "cell_type": "code",
   "execution_count": 25,
   "metadata": {},
   "outputs": [],
   "source": [
    "df_comb['Month'] = df_comb['localtime'].dt.strftime('%m')\n",
    "df_comb['Date'] = df_comb['localtime'].dt.strftime('%d')\n",
    "df_comb['Day'] = df_comb['localtime'].dt.dayofweek\n",
    "df_comb['Hour'] = df_comb['localtime'].dt.strftime('%H')"
   ]
  },
  {
   "cell_type": "code",
   "execution_count": 26,
   "metadata": {},
   "outputs": [
    {
     "data": {
      "text/html": [
       "<div>\n",
       "<style scoped>\n",
       "    .dataframe tbody tr th:only-of-type {\n",
       "        vertical-align: middle;\n",
       "    }\n",
       "\n",
       "    .dataframe tbody tr th {\n",
       "        vertical-align: top;\n",
       "    }\n",
       "\n",
       "    .dataframe thead th {\n",
       "        text-align: right;\n",
       "    }\n",
       "</style>\n",
       "<table border=\"1\" class=\"dataframe\">\n",
       "  <thead>\n",
       "    <tr style=\"text-align: right;\">\n",
       "      <th></th>\n",
       "      <th>Unnamed: 0</th>\n",
       "      <th>localtime</th>\n",
       "      <th>Unique_Grid</th>\n",
       "      <th>Area_Ctgry</th>\n",
       "      <th>Area_Name</th>\n",
       "      <th>X_Grid</th>\n",
       "      <th>Y_Grid</th>\n",
       "      <th>ClientMacAddr</th>\n",
       "      <th>TIG</th>\n",
       "      <th>Level_2</th>\n",
       "      <th>Month</th>\n",
       "      <th>Date</th>\n",
       "      <th>Day</th>\n",
       "      <th>Hour</th>\n",
       "    </tr>\n",
       "  </thead>\n",
       "  <tbody>\n",
       "    <tr>\n",
       "      <th>47919</th>\n",
       "      <td>47919</td>\n",
       "      <td>2019-08-12 08:00:00+00:00</td>\n",
       "      <td>3642.0</td>\n",
       "      <td>Restroom</td>\n",
       "      <td>Rest_Rm 1</td>\n",
       "      <td>36.0</td>\n",
       "      <td>42.0</td>\n",
       "      <td>166.0</td>\n",
       "      <td>973.639932</td>\n",
       "      <td>1</td>\n",
       "      <td>08</td>\n",
       "      <td>12</td>\n",
       "      <td>0</td>\n",
       "      <td>08</td>\n",
       "    </tr>\n",
       "  </tbody>\n",
       "</table>\n",
       "</div>"
      ],
      "text/plain": [
       "       Unnamed: 0                 localtime  Unique_Grid Area_Ctgry  \\\n",
       "47919       47919 2019-08-12 08:00:00+00:00       3642.0   Restroom   \n",
       "\n",
       "       Area_Name  X_Grid  Y_Grid  ClientMacAddr         TIG  Level_2 Month  \\\n",
       "47919  Rest_Rm 1    36.0    42.0          166.0  973.639932        1    08   \n",
       "\n",
       "      Date  Day Hour  \n",
       "47919   12    0   08  "
      ]
     },
     "execution_count": 26,
     "metadata": {},
     "output_type": "execute_result"
    }
   ],
   "source": [
    "df_comb.loc[df_comb.ClientMacAddr == max(df_comb.ClientMacAddr)]"
   ]
  },
  {
   "cell_type": "code",
   "execution_count": 27,
   "metadata": {},
   "outputs": [
    {
     "data": {
      "text/plain": [
       "627025"
      ]
     },
     "execution_count": 27,
     "metadata": {},
     "output_type": "execute_result"
    }
   ],
   "source": [
    "len(df_comb)"
   ]
  },
  {
   "cell_type": "code",
   "execution_count": 28,
   "metadata": {},
   "outputs": [],
   "source": [
    "df_cln = df_comb.drop(columns = ['localtime', 'Area_Ctgry', 'Area_Name','Unique_Grid','Unnamed: 0'])"
   ]
  },
  {
   "cell_type": "code",
   "execution_count": 29,
   "metadata": {},
   "outputs": [],
   "source": [
    "df_mod = pd.merge(df_cln, df_agg, on = ['Month','Date','Day','Hour'])"
   ]
  },
  {
   "cell_type": "code",
   "execution_count": 30,
   "metadata": {},
   "outputs": [
    {
     "data": {
      "text/plain": [
       "627024"
      ]
     },
     "execution_count": 30,
     "metadata": {},
     "output_type": "execute_result"
    }
   ],
   "source": [
    "len(df_mod)"
   ]
  },
  {
   "cell_type": "code",
   "execution_count": 31,
   "metadata": {},
   "outputs": [],
   "source": [
    "df_mod.Delay = df_mod.Delay.fillna(0)"
   ]
  },
  {
   "cell_type": "code",
   "execution_count": 32,
   "metadata": {
    "scrolled": true
   },
   "outputs": [
    {
     "data": {
      "text/html": [
       "<div>\n",
       "<style scoped>\n",
       "    .dataframe tbody tr th:only-of-type {\n",
       "        vertical-align: middle;\n",
       "    }\n",
       "\n",
       "    .dataframe tbody tr th {\n",
       "        vertical-align: top;\n",
       "    }\n",
       "\n",
       "    .dataframe thead th {\n",
       "        text-align: right;\n",
       "    }\n",
       "</style>\n",
       "<table border=\"1\" class=\"dataframe\">\n",
       "  <thead>\n",
       "    <tr style=\"text-align: right;\">\n",
       "      <th></th>\n",
       "      <th>X_Grid</th>\n",
       "      <th>Y_Grid</th>\n",
       "      <th>ClientMacAddr</th>\n",
       "      <th>TIG</th>\n",
       "      <th>Level_2</th>\n",
       "      <th>Month</th>\n",
       "      <th>Date</th>\n",
       "      <th>Day</th>\n",
       "      <th>Hour</th>\n",
       "      <th>localtime</th>\n",
       "      <th>Departure</th>\n",
       "      <th>Arrival</th>\n",
       "      <th>Canceled</th>\n",
       "      <th>Delay</th>\n",
       "      <th>Domestic</th>\n",
       "      <th>International</th>\n",
       "    </tr>\n",
       "  </thead>\n",
       "  <tbody>\n",
       "    <tr>\n",
       "      <th>105059</th>\n",
       "      <td>36.0</td>\n",
       "      <td>42.0</td>\n",
       "      <td>166.0</td>\n",
       "      <td>973.639932</td>\n",
       "      <td>1</td>\n",
       "      <td>08</td>\n",
       "      <td>12</td>\n",
       "      <td>0</td>\n",
       "      <td>08</td>\n",
       "      <td>2019-08-12 08:00:00</td>\n",
       "      <td>8</td>\n",
       "      <td>2</td>\n",
       "      <td>0</td>\n",
       "      <td>1290.1</td>\n",
       "      <td>9</td>\n",
       "      <td>1</td>\n",
       "    </tr>\n",
       "  </tbody>\n",
       "</table>\n",
       "</div>"
      ],
      "text/plain": [
       "        X_Grid  Y_Grid  ClientMacAddr         TIG  Level_2 Month Date  Day  \\\n",
       "105059    36.0    42.0          166.0  973.639932        1    08   12    0   \n",
       "\n",
       "       Hour           localtime  Departure  Arrival  Canceled   Delay  \\\n",
       "105059   08 2019-08-12 08:00:00          8        2         0  1290.1   \n",
       "\n",
       "        Domestic  International  \n",
       "105059         9              1  "
      ]
     },
     "execution_count": 32,
     "metadata": {},
     "output_type": "execute_result"
    }
   ],
   "source": [
    "df_mod.loc[df_mod.ClientMacAddr == max(df_mod.ClientMacAddr)]"
   ]
  },
  {
   "cell_type": "code",
   "execution_count": 33,
   "metadata": {},
   "outputs": [],
   "source": [
    "df_sys =  pd.DataFrame(\n",
    "    df_mod.groupby(['Month', 'Date', 'Hour']).agg({'ClientMacAddr': ['sum'],\n",
    "                                                        'TIG': ['mean']\n",
    "                                                       })).reset_index()\n",
    "df_sys.columns = [a_tuple[0] for a_tuple in df_sys.columns] # Flattens the column headers\n",
    "df_sys.columns = ['Month','Date','Hour','Num_in_Sys','Mean_TIG']"
   ]
  },
  {
   "cell_type": "code",
   "execution_count": 34,
   "metadata": {},
   "outputs": [],
   "source": [
    "df_sys.Num_in_Sys = df_sys.Num_in_Sys.shift(periods=1)\n",
    "df_sys.Mean_TIG = df_sys.Mean_TIG.shift(periods=1)"
   ]
  },
  {
   "cell_type": "code",
   "execution_count": 35,
   "metadata": {},
   "outputs": [
    {
     "name": "stdout",
     "output_type": "stream",
     "text": [
      "627024 3418\n"
     ]
    }
   ],
   "source": [
    "print(len(df_mod), len(df_sys))"
   ]
  },
  {
   "cell_type": "code",
   "execution_count": 36,
   "metadata": {},
   "outputs": [],
   "source": [
    "df_mod_comb = pd.merge(df_mod, df_sys, on=['Month','Date','Hour'])"
   ]
  },
  {
   "cell_type": "code",
   "execution_count": 37,
   "metadata": {},
   "outputs": [
    {
     "data": {
      "text/plain": [
       "627024"
      ]
     },
     "execution_count": 37,
     "metadata": {},
     "output_type": "execute_result"
    }
   ],
   "source": [
    "len(df_mod_comb)"
   ]
  },
  {
   "cell_type": "code",
   "execution_count": 38,
   "metadata": {},
   "outputs": [
    {
     "data": {
      "text/plain": [
       "370"
      ]
     },
     "execution_count": 38,
     "metadata": {},
     "output_type": "execute_result"
    }
   ],
   "source": [
    "len(df_mod_comb.loc[df_mod_comb.Num_in_Sys.isna()])"
   ]
  },
  {
   "cell_type": "code",
   "execution_count": 39,
   "metadata": {},
   "outputs": [],
   "source": [
    "df_mod_comb = df_mod_comb.sort_values(['X_Grid','Y_Grid','Level_2','Month','Date', 'Hour'])"
   ]
  },
  {
   "cell_type": "code",
   "execution_count": 40,
   "metadata": {},
   "outputs": [],
   "source": [
    "df_mod_comb['Month'] = df_mod_comb['Month'].astype(int).astype(str).str.zfill(2)\n",
    "df_mod_comb['Date'] = df_mod_comb['Date'].astype(int).astype(str).str.zfill(2)\n",
    "df_mod_comb['Hour'] = df_mod_comb['Hour'].astype(int)\n",
    "df_mod_comb['X_Grid'] = df_mod_comb['X_Grid'].astype(int).astype(str).str.zfill(2)\n",
    "df_mod_comb['Y_Grid'] = df_mod_comb['Y_Grid'].astype(int).astype(str).str.zfill(2)"
   ]
  },
  {
   "cell_type": "code",
   "execution_count": 41,
   "metadata": {},
   "outputs": [
    {
     "data": {
      "text/html": [
       "<div>\n",
       "<style scoped>\n",
       "    .dataframe tbody tr th:only-of-type {\n",
       "        vertical-align: middle;\n",
       "    }\n",
       "\n",
       "    .dataframe tbody tr th {\n",
       "        vertical-align: top;\n",
       "    }\n",
       "\n",
       "    .dataframe thead th {\n",
       "        text-align: right;\n",
       "    }\n",
       "</style>\n",
       "<table border=\"1\" class=\"dataframe\">\n",
       "  <thead>\n",
       "    <tr style=\"text-align: right;\">\n",
       "      <th></th>\n",
       "      <th>X_Grid</th>\n",
       "      <th>Y_Grid</th>\n",
       "      <th>ClientMacAddr</th>\n",
       "      <th>TIG</th>\n",
       "      <th>Level_2</th>\n",
       "      <th>Month</th>\n",
       "      <th>Date</th>\n",
       "      <th>Day</th>\n",
       "      <th>Hour</th>\n",
       "      <th>localtime</th>\n",
       "      <th>Departure</th>\n",
       "      <th>Arrival</th>\n",
       "      <th>Canceled</th>\n",
       "      <th>Delay</th>\n",
       "      <th>Domestic</th>\n",
       "      <th>International</th>\n",
       "      <th>Num_in_Sys</th>\n",
       "      <th>Mean_TIG</th>\n",
       "    </tr>\n",
       "  </thead>\n",
       "  <tbody>\n",
       "    <tr>\n",
       "      <th>44936</th>\n",
       "      <td>08</td>\n",
       "      <td>15</td>\n",
       "      <td>1.0</td>\n",
       "      <td>0.0</td>\n",
       "      <td>0</td>\n",
       "      <td>08</td>\n",
       "      <td>05</td>\n",
       "      <td>0</td>\n",
       "      <td>14</td>\n",
       "      <td>2019-08-05 14:00:00</td>\n",
       "      <td>5</td>\n",
       "      <td>2</td>\n",
       "      <td>0</td>\n",
       "      <td>205.285714</td>\n",
       "      <td>5</td>\n",
       "      <td>2</td>\n",
       "      <td>3014.0</td>\n",
       "      <td>387.795107</td>\n",
       "    </tr>\n",
       "    <tr>\n",
       "      <th>54792</th>\n",
       "      <td>08</td>\n",
       "      <td>16</td>\n",
       "      <td>1.0</td>\n",
       "      <td>0.0</td>\n",
       "      <td>0</td>\n",
       "      <td>08</td>\n",
       "      <td>06</td>\n",
       "      <td>1</td>\n",
       "      <td>14</td>\n",
       "      <td>2019-08-06 14:00:00</td>\n",
       "      <td>6</td>\n",
       "      <td>2</td>\n",
       "      <td>0</td>\n",
       "      <td>897.375000</td>\n",
       "      <td>6</td>\n",
       "      <td>2</td>\n",
       "      <td>5061.0</td>\n",
       "      <td>467.871104</td>\n",
       "    </tr>\n",
       "    <tr>\n",
       "      <th>80604</th>\n",
       "      <td>08</td>\n",
       "      <td>16</td>\n",
       "      <td>1.0</td>\n",
       "      <td>0.0</td>\n",
       "      <td>0</td>\n",
       "      <td>08</td>\n",
       "      <td>09</td>\n",
       "      <td>4</td>\n",
       "      <td>9</td>\n",
       "      <td>2019-08-09 09:00:00</td>\n",
       "      <td>4</td>\n",
       "      <td>2</td>\n",
       "      <td>0</td>\n",
       "      <td>1431.500000</td>\n",
       "      <td>4</td>\n",
       "      <td>2</td>\n",
       "      <td>3182.0</td>\n",
       "      <td>379.325367</td>\n",
       "    </tr>\n",
       "    <tr>\n",
       "      <th>19447</th>\n",
       "      <td>08</td>\n",
       "      <td>18</td>\n",
       "      <td>1.0</td>\n",
       "      <td>0.0</td>\n",
       "      <td>0</td>\n",
       "      <td>08</td>\n",
       "      <td>02</td>\n",
       "      <td>4</td>\n",
       "      <td>15</td>\n",
       "      <td>2019-08-02 15:00:00</td>\n",
       "      <td>4</td>\n",
       "      <td>5</td>\n",
       "      <td>0</td>\n",
       "      <td>0.666667</td>\n",
       "      <td>6</td>\n",
       "      <td>3</td>\n",
       "      <td>3476.0</td>\n",
       "      <td>359.028737</td>\n",
       "    </tr>\n",
       "    <tr>\n",
       "      <th>61002</th>\n",
       "      <td>08</td>\n",
       "      <td>18</td>\n",
       "      <td>1.0</td>\n",
       "      <td>0.0</td>\n",
       "      <td>0</td>\n",
       "      <td>08</td>\n",
       "      <td>07</td>\n",
       "      <td>2</td>\n",
       "      <td>5</td>\n",
       "      <td>2019-08-07 05:00:00</td>\n",
       "      <td>4</td>\n",
       "      <td>5</td>\n",
       "      <td>2</td>\n",
       "      <td>820.571429</td>\n",
       "      <td>3</td>\n",
       "      <td>6</td>\n",
       "      <td>2653.0</td>\n",
       "      <td>332.969954</td>\n",
       "    </tr>\n",
       "  </tbody>\n",
       "</table>\n",
       "</div>"
      ],
      "text/plain": [
       "      X_Grid Y_Grid  ClientMacAddr  TIG  Level_2 Month Date  Day  Hour  \\\n",
       "44936     08     15            1.0  0.0        0    08   05    0    14   \n",
       "54792     08     16            1.0  0.0        0    08   06    1    14   \n",
       "80604     08     16            1.0  0.0        0    08   09    4     9   \n",
       "19447     08     18            1.0  0.0        0    08   02    4    15   \n",
       "61002     08     18            1.0  0.0        0    08   07    2     5   \n",
       "\n",
       "                localtime  Departure  Arrival  Canceled        Delay  \\\n",
       "44936 2019-08-05 14:00:00          5        2         0   205.285714   \n",
       "54792 2019-08-06 14:00:00          6        2         0   897.375000   \n",
       "80604 2019-08-09 09:00:00          4        2         0  1431.500000   \n",
       "19447 2019-08-02 15:00:00          4        5         0     0.666667   \n",
       "61002 2019-08-07 05:00:00          4        5         2   820.571429   \n",
       "\n",
       "       Domestic  International  Num_in_Sys    Mean_TIG  \n",
       "44936         5              2      3014.0  387.795107  \n",
       "54792         6              2      5061.0  467.871104  \n",
       "80604         4              2      3182.0  379.325367  \n",
       "19447         6              3      3476.0  359.028737  \n",
       "61002         3              6      2653.0  332.969954  "
      ]
     },
     "execution_count": 41,
     "metadata": {},
     "output_type": "execute_result"
    }
   ],
   "source": [
    "df_mod_comb.head()"
   ]
  },
  {
   "cell_type": "code",
   "execution_count": 42,
   "metadata": {},
   "outputs": [],
   "source": [
    "tot_TIG = []\n",
    "tot_num = []\n",
    "cma_lst = df_mod_comb.ClientMacAddr\n",
    "tig_lst = df_mod_comb.TIG\n",
    "da_lst = df_mod_comb.Date\n",
    "mo_lst = df_mod_comb.Month\n",
    "hr_lst = df_mod_comb.Hour\n",
    "x_lst = df_mod_comb.X_Grid\n",
    "y_lst = df_mod_comb.Y_Grid\n",
    "\n",
    "for i in range(0,len(df_mod_comb)):\n",
    "    cur_CMA = cma_lst[i]\n",
    "    cur_TIG = tig_lst[i]\n",
    "    cur_mo = mo_lst[i]\n",
    "    cur_da = da_lst[i]\n",
    "    cur_hr = hr_lst[i]\n",
    "    cur_x = x_lst[i]\n",
    "    cur_y = y_lst[i]\n",
    "\n",
    "    if i >= 1:\n",
    "        j = i-1\n",
    "        prev_CMA = cma_lst[j]\n",
    "        prev_TIG = tig_lst[j]\n",
    "        prev_x = x_lst[j]\n",
    "        prev_y = y_lst[j]\n",
    "        prev_hr = hr_lst[j]\n",
    "\n",
    "        if (cur_hr == prev_hr + 1) & \\\n",
    "        (cur_x == prev_x) & (cur_y == prev_y):\n",
    "            tot_TIG.append(prev_TIG)\n",
    "            tot_num.append(prev_CMA)\n",
    "\n",
    "        elif (cur_hr == 0) & (prev_hr == 23) & \\\n",
    "        (cur_x == prev_x) & (cur_y == prev_y):\n",
    "            tot_TIG.append(prev_TIG)\n",
    "            tot_num.append(prev_CMA)\n",
    "\n",
    "        else:\n",
    "            tot_TIG.append(0)\n",
    "            tot_num.append(0)\n",
    "\n",
    "    else:\n",
    "        tot_TIG.append(0)\n",
    "        tot_num.append(0)"
   ]
  },
  {
   "cell_type": "code",
   "execution_count": 43,
   "metadata": {},
   "outputs": [
    {
     "data": {
      "text/html": [
       "<div>\n",
       "<style scoped>\n",
       "    .dataframe tbody tr th:only-of-type {\n",
       "        vertical-align: middle;\n",
       "    }\n",
       "\n",
       "    .dataframe tbody tr th {\n",
       "        vertical-align: top;\n",
       "    }\n",
       "\n",
       "    .dataframe thead th {\n",
       "        text-align: right;\n",
       "    }\n",
       "</style>\n",
       "<table border=\"1\" class=\"dataframe\">\n",
       "  <thead>\n",
       "    <tr style=\"text-align: right;\">\n",
       "      <th></th>\n",
       "      <th>X_Grid</th>\n",
       "      <th>Y_Grid</th>\n",
       "      <th>ClientMacAddr</th>\n",
       "      <th>TIG</th>\n",
       "      <th>Level_2</th>\n",
       "      <th>Month</th>\n",
       "      <th>Date</th>\n",
       "      <th>Day</th>\n",
       "      <th>Hour</th>\n",
       "      <th>localtime</th>\n",
       "      <th>Departure</th>\n",
       "      <th>Arrival</th>\n",
       "      <th>Canceled</th>\n",
       "      <th>Delay</th>\n",
       "      <th>Domestic</th>\n",
       "      <th>International</th>\n",
       "      <th>Num_in_Sys</th>\n",
       "      <th>Mean_TIG</th>\n",
       "      <th>Prev_TIG</th>\n",
       "      <th>Prev_Mac</th>\n",
       "    </tr>\n",
       "  </thead>\n",
       "  <tbody>\n",
       "    <tr>\n",
       "      <th>44936</th>\n",
       "      <td>08</td>\n",
       "      <td>15</td>\n",
       "      <td>1.0</td>\n",
       "      <td>0.0</td>\n",
       "      <td>0</td>\n",
       "      <td>08</td>\n",
       "      <td>05</td>\n",
       "      <td>00</td>\n",
       "      <td>14</td>\n",
       "      <td>2019-08-05 14:00:00</td>\n",
       "      <td>5</td>\n",
       "      <td>2</td>\n",
       "      <td>0</td>\n",
       "      <td>205.285714</td>\n",
       "      <td>5</td>\n",
       "      <td>2</td>\n",
       "      <td>3014.0</td>\n",
       "      <td>387.795107</td>\n",
       "      <td>0</td>\n",
       "      <td>0</td>\n",
       "    </tr>\n",
       "    <tr>\n",
       "      <th>54792</th>\n",
       "      <td>08</td>\n",
       "      <td>16</td>\n",
       "      <td>1.0</td>\n",
       "      <td>0.0</td>\n",
       "      <td>0</td>\n",
       "      <td>08</td>\n",
       "      <td>06</td>\n",
       "      <td>01</td>\n",
       "      <td>14</td>\n",
       "      <td>2019-08-06 14:00:00</td>\n",
       "      <td>6</td>\n",
       "      <td>2</td>\n",
       "      <td>0</td>\n",
       "      <td>897.375000</td>\n",
       "      <td>6</td>\n",
       "      <td>2</td>\n",
       "      <td>5061.0</td>\n",
       "      <td>467.871104</td>\n",
       "      <td>0</td>\n",
       "      <td>0</td>\n",
       "    </tr>\n",
       "    <tr>\n",
       "      <th>80604</th>\n",
       "      <td>08</td>\n",
       "      <td>16</td>\n",
       "      <td>1.0</td>\n",
       "      <td>0.0</td>\n",
       "      <td>0</td>\n",
       "      <td>08</td>\n",
       "      <td>09</td>\n",
       "      <td>04</td>\n",
       "      <td>09</td>\n",
       "      <td>2019-08-09 09:00:00</td>\n",
       "      <td>4</td>\n",
       "      <td>2</td>\n",
       "      <td>0</td>\n",
       "      <td>1431.500000</td>\n",
       "      <td>4</td>\n",
       "      <td>2</td>\n",
       "      <td>3182.0</td>\n",
       "      <td>379.325367</td>\n",
       "      <td>0</td>\n",
       "      <td>0</td>\n",
       "    </tr>\n",
       "    <tr>\n",
       "      <th>19447</th>\n",
       "      <td>08</td>\n",
       "      <td>18</td>\n",
       "      <td>1.0</td>\n",
       "      <td>0.0</td>\n",
       "      <td>0</td>\n",
       "      <td>08</td>\n",
       "      <td>02</td>\n",
       "      <td>04</td>\n",
       "      <td>15</td>\n",
       "      <td>2019-08-02 15:00:00</td>\n",
       "      <td>4</td>\n",
       "      <td>5</td>\n",
       "      <td>0</td>\n",
       "      <td>0.666667</td>\n",
       "      <td>6</td>\n",
       "      <td>3</td>\n",
       "      <td>3476.0</td>\n",
       "      <td>359.028737</td>\n",
       "      <td>0</td>\n",
       "      <td>0</td>\n",
       "    </tr>\n",
       "    <tr>\n",
       "      <th>61002</th>\n",
       "      <td>08</td>\n",
       "      <td>18</td>\n",
       "      <td>1.0</td>\n",
       "      <td>0.0</td>\n",
       "      <td>0</td>\n",
       "      <td>08</td>\n",
       "      <td>07</td>\n",
       "      <td>02</td>\n",
       "      <td>05</td>\n",
       "      <td>2019-08-07 05:00:00</td>\n",
       "      <td>4</td>\n",
       "      <td>5</td>\n",
       "      <td>2</td>\n",
       "      <td>820.571429</td>\n",
       "      <td>3</td>\n",
       "      <td>6</td>\n",
       "      <td>2653.0</td>\n",
       "      <td>332.969954</td>\n",
       "      <td>0</td>\n",
       "      <td>0</td>\n",
       "    </tr>\n",
       "  </tbody>\n",
       "</table>\n",
       "</div>"
      ],
      "text/plain": [
       "      X_Grid Y_Grid  ClientMacAddr  TIG  Level_2 Month Date Day Hour  \\\n",
       "44936     08     15            1.0  0.0        0    08   05  00   14   \n",
       "54792     08     16            1.0  0.0        0    08   06  01   14   \n",
       "80604     08     16            1.0  0.0        0    08   09  04   09   \n",
       "19447     08     18            1.0  0.0        0    08   02  04   15   \n",
       "61002     08     18            1.0  0.0        0    08   07  02   05   \n",
       "\n",
       "                localtime  Departure  Arrival  Canceled        Delay  \\\n",
       "44936 2019-08-05 14:00:00          5        2         0   205.285714   \n",
       "54792 2019-08-06 14:00:00          6        2         0   897.375000   \n",
       "80604 2019-08-09 09:00:00          4        2         0  1431.500000   \n",
       "19447 2019-08-02 15:00:00          4        5         0     0.666667   \n",
       "61002 2019-08-07 05:00:00          4        5         2   820.571429   \n",
       "\n",
       "       Domestic  International  Num_in_Sys    Mean_TIG  Prev_TIG  Prev_Mac  \n",
       "44936         5              2      3014.0  387.795107         0         0  \n",
       "54792         6              2      5061.0  467.871104         0         0  \n",
       "80604         4              2      3182.0  379.325367         0         0  \n",
       "19447         6              3      3476.0  359.028737         0         0  \n",
       "61002         3              6      2653.0  332.969954         0         0  "
      ]
     },
     "execution_count": 43,
     "metadata": {},
     "output_type": "execute_result"
    }
   ],
   "source": [
    "df_mod_comb['Prev_TIG'] = tot_TIG\n",
    "df_mod_comb['Prev_Mac'] = tot_num\n",
    "df_mod_comb['Hour'] = df_mod_comb['Hour'].astype(str).str.zfill(2)\n",
    "df_mod_comb['Day'] = df_mod_comb['Day'].astype(str).str.zfill(2)\n",
    "df_mod_comb.head()"
   ]
  },
  {
   "cell_type": "code",
   "execution_count": 44,
   "metadata": {},
   "outputs": [
    {
     "name": "stdout",
     "output_type": "stream",
     "text": [
      "627024 166.0\n"
     ]
    }
   ],
   "source": [
    "print(len(df_mod_comb), max(df_mod_comb.ClientMacAddr))\n"
   ]
  },
  {
   "cell_type": "code",
   "execution_count": 45,
   "metadata": {},
   "outputs": [
    {
     "data": {
      "text/plain": [
       "626654"
      ]
     },
     "execution_count": 45,
     "metadata": {},
     "output_type": "execute_result"
    }
   ],
   "source": [
    "len(df_mod_comb.loc[df_mod_comb.Num_in_Sys.notna()])"
   ]
  },
  {
   "cell_type": "code",
   "execution_count": 46,
   "metadata": {},
   "outputs": [],
   "source": [
    "#dummy1 = pd.get_dummies(df_mod_comb['Day'])\n",
    "#dummy2 = pd.get_dummies(df_mod_comb['Hour'])\n",
    "#df_mod_comb.drop(columns=['Day','Hour'], inplace=True)\n",
    "#df_mod_comb = pd.concat([df_mod_comb,dummy1,dummy2], axis=1)"
   ]
  },
  {
   "cell_type": "code",
   "execution_count": 47,
   "metadata": {},
   "outputs": [],
   "source": [
    "df_mod1 = df_mod_comb[(df_mod_comb.Month == '09') & (df_mod_comb.Date == '01')]\n",
    "df_mod2 = df_mod_comb[~((df_mod_comb.Month == '09') & (df_mod_comb.Date == '01')) & \n",
    "                 (df_mod_comb.Num_in_Sys.notna())]"
   ]
  },
  {
   "cell_type": "code",
   "execution_count": 48,
   "metadata": {},
   "outputs": [],
   "source": [
    "df_mod1 = df_mod1.drop(columns = ['localtime', 'Month', 'TIG', 'Date'])\n",
    "df_mod2 = df_mod2.drop(columns = ['localtime', 'Month', 'TIG', 'Date'])"
   ]
  },
  {
   "cell_type": "code",
   "execution_count": 49,
   "metadata": {},
   "outputs": [],
   "source": [
    "X = df_mod2.drop(columns = ['ClientMacAddr'])\n",
    "y = df_mod2.pop('ClientMacAddr')\n",
    "\n",
    "X_plt = df_mod1.drop(columns = ['ClientMacAddr'])\n",
    "y_plt = df_mod1.pop('ClientMacAddr')"
   ]
  },
  {
   "cell_type": "code",
   "execution_count": 50,
   "metadata": {},
   "outputs": [
    {
     "name": "stderr",
     "output_type": "stream",
     "text": [
      "Failed to import duecredit due to No module named 'duecredit'\n",
      "C:\\Users\\ssq10\\Anaconda3\\lib\\site-packages\\sklearn\\utils\\deprecation.py:144: FutureWarning: The sklearn.ensemble.forest module is  deprecated in version 0.22 and will be removed in version 0.24. The corresponding classes / functions should instead be imported from sklearn.ensemble. Anything that cannot be imported from sklearn.ensemble is now part of the private API.\n",
      "  warnings.warn(message, FutureWarning)\n"
     ]
    }
   ],
   "source": [
    "from sklearn.ensemble import RandomForestRegressor, AdaBoostRegressor, GradientBoostingRegressor\n",
    "from sklearn.pipeline import Pipeline\n",
    "from sklearn.model_selection import GridSearchCV, RandomizedSearchCV\n",
    "from sklearn.model_selection import train_test_split\n",
    "from sklearn.metrics import r2_score, mean_squared_error, mean_absolute_error\n",
    "from sklearn.preprocessing import PowerTransformer, StandardScaler, QuantileTransformer\n",
    "from xgboost import XGBRegressor\n",
    "import forestci as fci\n",
    "from sklearn.linear_model import BayesianRidge, LinearRegression\n",
    "from sklearn.neighbors import KNeighborsRegressor\n",
    "from scipy.stats import boxcox"
   ]
  },
  {
   "cell_type": "code",
   "execution_count": 51,
   "metadata": {},
   "outputs": [
    {
     "data": {
      "text/html": [
       "<div>\n",
       "<style scoped>\n",
       "    .dataframe tbody tr th:only-of-type {\n",
       "        vertical-align: middle;\n",
       "    }\n",
       "\n",
       "    .dataframe tbody tr th {\n",
       "        vertical-align: top;\n",
       "    }\n",
       "\n",
       "    .dataframe thead th {\n",
       "        text-align: right;\n",
       "    }\n",
       "</style>\n",
       "<table border=\"1\" class=\"dataframe\">\n",
       "  <thead>\n",
       "    <tr style=\"text-align: right;\">\n",
       "      <th></th>\n",
       "      <th>X_Grid</th>\n",
       "      <th>Y_Grid</th>\n",
       "      <th>Level_2</th>\n",
       "      <th>Day</th>\n",
       "      <th>Hour</th>\n",
       "      <th>Departure</th>\n",
       "      <th>Arrival</th>\n",
       "      <th>Canceled</th>\n",
       "      <th>Delay</th>\n",
       "      <th>Domestic</th>\n",
       "      <th>International</th>\n",
       "      <th>Num_in_Sys</th>\n",
       "      <th>Mean_TIG</th>\n",
       "      <th>Prev_TIG</th>\n",
       "      <th>Prev_Mac</th>\n",
       "    </tr>\n",
       "  </thead>\n",
       "  <tbody>\n",
       "    <tr>\n",
       "      <th>44936</th>\n",
       "      <td>08</td>\n",
       "      <td>15</td>\n",
       "      <td>0</td>\n",
       "      <td>00</td>\n",
       "      <td>14</td>\n",
       "      <td>5</td>\n",
       "      <td>2</td>\n",
       "      <td>0</td>\n",
       "      <td>205.285714</td>\n",
       "      <td>5</td>\n",
       "      <td>2</td>\n",
       "      <td>3014.0</td>\n",
       "      <td>387.795107</td>\n",
       "      <td>0</td>\n",
       "      <td>0</td>\n",
       "    </tr>\n",
       "    <tr>\n",
       "      <th>54792</th>\n",
       "      <td>08</td>\n",
       "      <td>16</td>\n",
       "      <td>0</td>\n",
       "      <td>01</td>\n",
       "      <td>14</td>\n",
       "      <td>6</td>\n",
       "      <td>2</td>\n",
       "      <td>0</td>\n",
       "      <td>897.375000</td>\n",
       "      <td>6</td>\n",
       "      <td>2</td>\n",
       "      <td>5061.0</td>\n",
       "      <td>467.871104</td>\n",
       "      <td>0</td>\n",
       "      <td>0</td>\n",
       "    </tr>\n",
       "    <tr>\n",
       "      <th>80604</th>\n",
       "      <td>08</td>\n",
       "      <td>16</td>\n",
       "      <td>0</td>\n",
       "      <td>04</td>\n",
       "      <td>09</td>\n",
       "      <td>4</td>\n",
       "      <td>2</td>\n",
       "      <td>0</td>\n",
       "      <td>1431.500000</td>\n",
       "      <td>4</td>\n",
       "      <td>2</td>\n",
       "      <td>3182.0</td>\n",
       "      <td>379.325367</td>\n",
       "      <td>0</td>\n",
       "      <td>0</td>\n",
       "    </tr>\n",
       "    <tr>\n",
       "      <th>19447</th>\n",
       "      <td>08</td>\n",
       "      <td>18</td>\n",
       "      <td>0</td>\n",
       "      <td>04</td>\n",
       "      <td>15</td>\n",
       "      <td>4</td>\n",
       "      <td>5</td>\n",
       "      <td>0</td>\n",
       "      <td>0.666667</td>\n",
       "      <td>6</td>\n",
       "      <td>3</td>\n",
       "      <td>3476.0</td>\n",
       "      <td>359.028737</td>\n",
       "      <td>0</td>\n",
       "      <td>0</td>\n",
       "    </tr>\n",
       "    <tr>\n",
       "      <th>61002</th>\n",
       "      <td>08</td>\n",
       "      <td>18</td>\n",
       "      <td>0</td>\n",
       "      <td>02</td>\n",
       "      <td>05</td>\n",
       "      <td>4</td>\n",
       "      <td>5</td>\n",
       "      <td>2</td>\n",
       "      <td>820.571429</td>\n",
       "      <td>3</td>\n",
       "      <td>6</td>\n",
       "      <td>2653.0</td>\n",
       "      <td>332.969954</td>\n",
       "      <td>0</td>\n",
       "      <td>0</td>\n",
       "    </tr>\n",
       "  </tbody>\n",
       "</table>\n",
       "</div>"
      ],
      "text/plain": [
       "      X_Grid Y_Grid  Level_2 Day Hour  Departure  Arrival  Canceled  \\\n",
       "44936     08     15        0  00   14          5        2         0   \n",
       "54792     08     16        0  01   14          6        2         0   \n",
       "80604     08     16        0  04   09          4        2         0   \n",
       "19447     08     18        0  04   15          4        5         0   \n",
       "61002     08     18        0  02   05          4        5         2   \n",
       "\n",
       "             Delay  Domestic  International  Num_in_Sys    Mean_TIG  Prev_TIG  \\\n",
       "44936   205.285714         5              2      3014.0  387.795107         0   \n",
       "54792   897.375000         6              2      5061.0  467.871104         0   \n",
       "80604  1431.500000         4              2      3182.0  379.325367         0   \n",
       "19447     0.666667         6              3      3476.0  359.028737         0   \n",
       "61002   820.571429         3              6      2653.0  332.969954         0   \n",
       "\n",
       "       Prev_Mac  \n",
       "44936         0  \n",
       "54792         0  \n",
       "80604         0  \n",
       "19447         0  \n",
       "61002         0  "
      ]
     },
     "execution_count": 51,
     "metadata": {},
     "output_type": "execute_result"
    }
   ],
   "source": [
    "X.head()"
   ]
  },
  {
   "cell_type": "code",
   "execution_count": 52,
   "metadata": {},
   "outputs": [],
   "source": [
    "X_train, X_test, y_train, y_test = train_test_split(X, y, train_size = .7)"
   ]
  },
  {
   "cell_type": "code",
   "execution_count": 53,
   "metadata": {},
   "outputs": [
    {
     "name": "stdout",
     "output_type": "stream",
     "text": [
      "<class 'pandas.core.frame.DataFrame'>\n",
      "Int64Index: 431727 entries, 614647 to 428556\n",
      "Data columns (total 15 columns):\n",
      " #   Column         Non-Null Count   Dtype  \n",
      "---  ------         --------------   -----  \n",
      " 0   X_Grid         431727 non-null  object \n",
      " 1   Y_Grid         431727 non-null  object \n",
      " 2   Level_2        431727 non-null  int64  \n",
      " 3   Day            431727 non-null  object \n",
      " 4   Hour           431727 non-null  object \n",
      " 5   Departure      431727 non-null  int64  \n",
      " 6   Arrival        431727 non-null  int64  \n",
      " 7   Canceled       431727 non-null  int64  \n",
      " 8   Delay          431727 non-null  float64\n",
      " 9   Domestic       431727 non-null  int64  \n",
      " 10  International  431727 non-null  int64  \n",
      " 11  Num_in_Sys     431727 non-null  float64\n",
      " 12  Mean_TIG       431727 non-null  float64\n",
      " 13  Prev_TIG       431727 non-null  int64  \n",
      " 14  Prev_Mac       431727 non-null  int64  \n",
      "dtypes: float64(3), int64(8), object(4)\n",
      "memory usage: 52.7+ MB\n"
     ]
    }
   ],
   "source": [
    "X_train.info()"
   ]
  },
  {
   "cell_type": "code",
   "execution_count": 54,
   "metadata": {},
   "outputs": [],
   "source": [
    "# Good for other algorithms.  Doesn't effect RF\n",
    "scaler = StandardScaler()\n",
    "X_train = scaler.fit_transform(X_train)\n",
    "X_test = scaler.transform(X_test)\n",
    "X_plt2 = scaler.transform(X_plt)"
   ]
  },
  {
   "cell_type": "code",
   "execution_count": 157,
   "metadata": {},
   "outputs": [],
   "source": [
    "# Use if attempting to scale the response.  The number of 0\n",
    "# values max the transformation less useful.\n",
    "# RandomForest performs better without.\n",
    "# Others perform better, but still not as well as RF\n",
    "\n",
    "#y_train = y_train.to_frame()\n",
    "#y_test = y_test.to_frame()\n",
    "#y_plt = y_plt.to_frame()"
   ]
  },
  {
   "cell_type": "code",
   "execution_count": 158,
   "metadata": {},
   "outputs": [],
   "source": [
    "#qt = PowerTransformer(method='box-cox')\n",
    "\n",
    "#y_train = qt.fit_transform(y_train)\n",
    "#y_test = qt.transform(y_test)\n",
    "#y_plt = qt.transform(y_plt)"
   ]
  },
  {
   "cell_type": "code",
   "execution_count": 159,
   "metadata": {},
   "outputs": [
    {
     "data": {
      "text/plain": [
       "(array([3.37676e+05, 4.85340e+04, 1.93560e+04, 9.90200e+03, 5.62100e+03,\n",
       "        3.53700e+03, 2.32400e+03, 1.47700e+03, 1.01900e+03, 7.18000e+02,\n",
       "        4.70000e+02, 3.41000e+02, 2.42000e+02, 1.58000e+02, 8.00000e+01,\n",
       "        8.00000e+01, 7.10000e+01, 3.80000e+01, 2.70000e+01, 2.20000e+01,\n",
       "        8.00000e+00, 6.00000e+00, 7.00000e+00, 3.00000e+00, 5.00000e+00,\n",
       "        1.00000e+00, 2.00000e+00, 1.00000e+00, 0.00000e+00, 1.00000e+00]),\n",
       " array([  1.        ,   5.93333333,  10.86666667,  15.8       ,\n",
       "         20.73333333,  25.66666667,  30.6       ,  35.53333333,\n",
       "         40.46666667,  45.4       ,  50.33333333,  55.26666667,\n",
       "         60.2       ,  65.13333333,  70.06666667,  75.        ,\n",
       "         79.93333333,  84.86666667,  89.8       ,  94.73333333,\n",
       "         99.66666667, 104.6       , 109.53333333, 114.46666667,\n",
       "        119.4       , 124.33333333, 129.26666667, 134.2       ,\n",
       "        139.13333333, 144.06666667, 149.        ]),\n",
       " <a list of 30 Patch objects>)"
      ]
     },
     "execution_count": 159,
     "metadata": {},
     "output_type": "execute_result"
    },
    {
     "data": {
      "image/png": "[encoded data removed]",
      "text/plain": [
       "<Figure size 432x288 with 1 Axes>"
      ]
     },
     "metadata": {
      "needs_background": "light"
     },
     "output_type": "display_data"
    }
   ],
   "source": [
    "plt.hist(y_train, bins = 30)"
   ]
  },
  {
   "cell_type": "code",
   "execution_count": 193,
   "metadata": {},
   "outputs": [
    {
     "data": {
      "text/plain": [
       "RandomForestRegressor(bootstrap=True, ccp_alpha=0.0, criterion='mse',\n",
       "                      max_depth=100, max_features='auto', max_leaf_nodes=None,\n",
       "                      max_samples=None, min_impurity_decrease=0.0,\n",
       "                      min_impurity_split=None, min_samples_leaf=4,\n",
       "                      min_samples_split=2, min_weight_fraction_leaf=0.0,\n",
       "                      n_estimators=1200, n_jobs=-1, oob_score=False,\n",
       "                      random_state=42, verbose=0, warm_start=False)"
      ]
     },
     "execution_count": 193,
     "metadata": {},
     "output_type": "execute_result"
    }
   ],
   "source": [
    " {'n_estimators': 1200,\n",
    " 'min_samples_split': 2,\n",
    " 'min_samples_leaf': 4,\n",
    " 'max_features': 'auto',\n",
    " 'max_depth': 100,\n",
    " 'bootstrap': True}\n",
    "mod_RF = RandomForestRegressor(max_features = 'auto', min_samples_split = 2, \n",
    "                               n_estimators = 1200, min_samples_leaf = 4,\n",
    "                               max_depth = 100, bootstrap = True, n_jobs = -1,\n",
    "                              random_state=42)\n",
    "mod_RF.fit(X_train, y_train)"
   ]
  },
  {
   "cell_type": "code",
   "execution_count": 194,
   "metadata": {},
   "outputs": [
    {
     "data": {
      "text/plain": [
       "0.7917753985832848"
      ]
     },
     "execution_count": 194,
     "metadata": {},
     "output_type": "execute_result"
    }
   ],
   "source": [
    "mod_RF.score(X_test, y_test)"
   ]
  },
  {
   "cell_type": "code",
   "execution_count": 195,
   "metadata": {},
   "outputs": [],
   "source": [
    "y_pred = mod_RF.predict(X_test)\n",
    "y_pred_plt = mod_RF.predict(X_plt2)"
   ]
  },
  {
   "cell_type": "code",
   "execution_count": 163,
   "metadata": {},
   "outputs": [],
   "source": [
    "#Use if doing a transform on y\n",
    "#y_t = qt.inverse_transform(y_test)\n",
    "#y_p = qt.inverse_transform(y_pred.reshape(-1,1))"
   ]
  },
  {
   "cell_type": "code",
   "execution_count": 196,
   "metadata": {},
   "outputs": [
    {
     "data": {
      "text/plain": [
       "3.2663893584081047"
      ]
     },
     "execution_count": 196,
     "metadata": {},
     "output_type": "execute_result"
    }
   ],
   "source": [
    "(mean_squared_error(y_test,y_pred))**.5"
   ]
  },
  {
   "cell_type": "code",
   "execution_count": 165,
   "metadata": {},
   "outputs": [
    {
     "data": {
      "text/plain": [
       "(array([1.61033e+05, 1.49100e+04, 5.00600e+03, 2.24500e+03, 1.06000e+03,\n",
       "        4.30000e+02, 2.07000e+02, 8.40000e+01, 3.50000e+01, 1.60000e+01]),\n",
       " array([ 1.00025   ,  8.77909523, 16.55794046, 24.3367857 , 32.11563093,\n",
       "        39.89447616, 47.67332139, 55.45216662, 63.23101185, 71.00985709,\n",
       "        78.78870232]),\n",
       " <a list of 10 Patch objects>)"
      ]
     },
     "execution_count": 165,
     "metadata": {},
     "output_type": "execute_result"
    },
    {
     "data": {
      "image/png": "[encoded data removed]",
      "text/plain": [
       "<Figure size 432x288 with 1 Axes>"
      ]
     },
     "metadata": {
      "needs_background": "light"
     },
     "output_type": "display_data"
    }
   ],
   "source": [
    "plt.hist(y_pred)"
   ]
  },
  {
   "cell_type": "code",
   "execution_count": 166,
   "metadata": {},
   "outputs": [
    {
     "data": {
      "text/plain": [
       "1.6407566769169328"
      ]
     },
     "execution_count": 166,
     "metadata": {},
     "output_type": "execute_result"
    }
   ],
   "source": [
    "mean_absolute_error(y_test, y_pred)"
   ]
  },
  {
   "cell_type": "code",
   "execution_count": 170,
   "metadata": {},
   "outputs": [
    {
     "data": {
      "text/plain": [
       "Text(0, 0.5, 'Predicted')"
      ]
     },
     "execution_count": 170,
     "metadata": {},
     "output_type": "execute_result"
    },
    {
     "data": {
      "image/png": "[encoded data removed]",
      "text/plain": [
       "<Figure size 432x288 with 1 Axes>"
      ]
     },
     "metadata": {
      "needs_background": "light"
     },
     "output_type": "display_data"
    }
   ],
   "source": [
    "plt.scatter(y_test,y_pred, s=.005)\n",
    "plt.xlabel('Actual')\n",
    "plt.ylabel('Predicted')"
   ]
  },
  {
   "cell_type": "code",
   "execution_count": 197,
   "metadata": {},
   "outputs": [
    {
     "data": {
      "text/plain": [
       "BayesianRidge(alpha_1=0.01, alpha_2=100, alpha_init=None, compute_score=False,\n",
       "              copy_X=True, fit_intercept=True, lambda_1=1e-06, lambda_2=1e-06,\n",
       "              lambda_init=None, n_iter=300, normalize=False, tol=0.001,\n",
       "              verbose=False)"
      ]
     },
     "execution_count": 197,
     "metadata": {},
     "output_type": "execute_result"
    }
   ],
   "source": [
    "NB = BayesianRidge(alpha_1=.01,alpha_2=100)\n",
    "NB.fit(X_train,y_train)"
   ]
  },
  {
   "cell_type": "code",
   "execution_count": 198,
   "metadata": {},
   "outputs": [
    {
     "data": {
      "text/plain": [
       "0.1638510456792608"
      ]
     },
     "execution_count": 198,
     "metadata": {},
     "output_type": "execute_result"
    }
   ],
   "source": [
    "NB.score(X_test,y_test)"
   ]
  },
  {
   "cell_type": "code",
   "execution_count": 735,
   "metadata": {},
   "outputs": [],
   "source": [
    "y_pred = NB.predict(X_test)\n",
    "y_pred_plt = NB.predict(X_plt)"
   ]
  },
  {
   "cell_type": "code",
   "execution_count": 736,
   "metadata": {},
   "outputs": [],
   "source": [
    "#Use if doing a transform on y\n",
    "y_t = qt.inverse_transform(y_test)\n",
    "y_p = qt.inverse_transform(y_pred.reshape(-1,1))"
   ]
  },
  {
   "cell_type": "code",
   "execution_count": 737,
   "metadata": {},
   "outputs": [
    {
     "data": {
      "text/plain": [
       "7.252160886322773"
      ]
     },
     "execution_count": 737,
     "metadata": {},
     "output_type": "execute_result"
    }
   ],
   "source": [
    "(mean_squared_error(y_t,y_p))**.5"
   ]
  },
  {
   "cell_type": "code",
   "execution_count": 597,
   "metadata": {},
   "outputs": [],
   "source": [
    "Importance = pd.DataFrame({'RF Import':mod_RF.feature_importances_*100},\n",
    "                         index = X.columns)\n",
    "Import_df =Importance.sort_values('RF Import', ascending=False) # Display Top 15"
   ]
  },
  {
   "cell_type": "code",
   "execution_count": 598,
   "metadata": {},
   "outputs": [
    {
     "data": {
      "image/png": "[encoded data removed]",
      "text/plain": [
       "<Figure size 432x288 with 1 Axes>"
      ]
     },
     "metadata": {
      "needs_background": "light"
     },
     "output_type": "display_data"
    }
   ],
   "source": [
    "Import_df.plot.barh(color='r').invert_yaxis()\n",
    "plt.xlabel('Variable Importance')\n",
    "plt.gca().legend_ = None\n",
    "plt.grid()"
   ]
  },
  {
   "cell_type": "markdown",
   "metadata": {},
   "source": [
    "### Linear Regression"
   ]
  },
  {
   "cell_type": "code",
   "execution_count": 205,
   "metadata": {},
   "outputs": [
    {
     "data": {
      "text/plain": [
       "LinearRegression(copy_X=True, fit_intercept=True, n_jobs=None, normalize=False)"
      ]
     },
     "execution_count": 205,
     "metadata": {},
     "output_type": "execute_result"
    }
   ],
   "source": [
    "LR = LinearRegression()\n",
    "LR.fit(X_train, y_train)"
   ]
  },
  {
   "cell_type": "code",
   "execution_count": 206,
   "metadata": {},
   "outputs": [
    {
     "data": {
      "text/plain": [
       "0.16377933136108125"
      ]
     },
     "execution_count": 206,
     "metadata": {},
     "output_type": "execute_result"
    }
   ],
   "source": [
    "LR.score(X_test, y_test)"
   ]
  },
  {
   "cell_type": "code",
   "execution_count": 207,
   "metadata": {},
   "outputs": [
    {
     "data": {
      "text/plain": [
       "6.5457947154786185"
      ]
     },
     "execution_count": 207,
     "metadata": {},
     "output_type": "execute_result"
    }
   ],
   "source": [
    "(mean_squared_error(y_test, LR.predict(X_test)))**.5"
   ]
  },
  {
   "cell_type": "code",
   "execution_count": 216,
   "metadata": {},
   "outputs": [
    {
     "data": {
      "text/plain": [
       "Text(0, 0.5, 'Predicted')"
      ]
     },
     "execution_count": 216,
     "metadata": {},
     "output_type": "execute_result"
    },
    {
     "data": {
      "image/png": "[encoded data removed]",
      "text/plain": [
       "<Figure size 432x288 with 1 Axes>"
      ]
     },
     "metadata": {
      "needs_background": "light"
     },
     "output_type": "display_data"
    }
   ],
   "source": [
    "plt.scatter(y_test,LR.predict(X_test), s=.005)\n",
    "plt.xlabel('Actual')\n",
    "plt.ylabel('Predicted')"
   ]
  },
  {
   "cell_type": "markdown",
   "metadata": {},
   "source": [
    "### Bayesian Ridge"
   ]
  },
  {
   "cell_type": "code",
   "execution_count": 190,
   "metadata": {},
   "outputs": [
    {
     "data": {
      "text/plain": [
       "BayesianRidge(alpha_1=0.01, alpha_2=100, alpha_init=None, compute_score=False,\n",
       "              copy_X=True, fit_intercept=True, lambda_1=1e-06, lambda_2=1e-06,\n",
       "              lambda_init=None, n_iter=300, normalize=False, tol=0.001,\n",
       "              verbose=False)"
      ]
     },
     "execution_count": 190,
     "metadata": {},
     "output_type": "execute_result"
    }
   ],
   "source": [
    "NB = BayesianRidge(alpha_1=.01,alpha_2=100)\n",
    "NB.fit(X_train,y_train)"
   ]
  },
  {
   "cell_type": "code",
   "execution_count": 191,
   "metadata": {},
   "outputs": [
    {
     "data": {
      "text/plain": [
       "0.1638510456792608"
      ]
     },
     "execution_count": 191,
     "metadata": {},
     "output_type": "execute_result"
    }
   ],
   "source": [
    "NB.score(X_test, y_test)"
   ]
  },
  {
   "cell_type": "code",
   "execution_count": 192,
   "metadata": {},
   "outputs": [
    {
     "data": {
      "text/plain": [
       "6.545514025651444"
      ]
     },
     "execution_count": 192,
     "metadata": {},
     "output_type": "execute_result"
    }
   ],
   "source": [
    "(mean_squared_error(y_test, NB.predict(X_test)))**.5"
   ]
  },
  {
   "cell_type": "code",
   "execution_count": 217,
   "metadata": {},
   "outputs": [
    {
     "data": {
      "text/plain": [
       "Text(0, 0.5, 'Predicted')"
      ]
     },
     "execution_count": 217,
     "metadata": {},
     "output_type": "execute_result"
    },
    {
     "data": {
      "image/png": "[encoded data removed]",
      "text/plain": [
       "<Figure size 432x288 with 1 Axes>"
      ]
     },
     "metadata": {
      "needs_background": "light"
     },
     "output_type": "display_data"
    }
   ],
   "source": [
    "plt.scatter(y_test,NB.predict(X_test), s=.005)\n",
    "plt.xlabel('Actual')\n",
    "plt.ylabel('Predicted')"
   ]
  },
  {
   "cell_type": "markdown",
   "metadata": {},
   "source": [
    "### Ada Boost"
   ]
  },
  {
   "cell_type": "code",
   "execution_count": 211,
   "metadata": {},
   "outputs": [
    {
     "data": {
      "text/plain": [
       "AdaBoostRegressor(base_estimator=None, learning_rate=0.05, loss='linear',\n",
       "                  n_estimators=600, random_state=0)"
      ]
     },
     "execution_count": 211,
     "metadata": {},
     "output_type": "execute_result"
    }
   ],
   "source": [
    "AB = AdaBoostRegressor(n_estimators=600, learning_rate=.05,random_state=0)\n",
    "AB.fit(X_train,y_train)"
   ]
  },
  {
   "cell_type": "code",
   "execution_count": 212,
   "metadata": {},
   "outputs": [
    {
     "data": {
      "text/plain": [
       "-0.2116297068996944"
      ]
     },
     "execution_count": 212,
     "metadata": {},
     "output_type": "execute_result"
    }
   ],
   "source": [
    "AB.score(X_test, y_test)"
   ]
  },
  {
   "cell_type": "code",
   "execution_count": 214,
   "metadata": {},
   "outputs": [
    {
     "data": {
      "text/plain": [
       "7.879286437111401"
      ]
     },
     "execution_count": 214,
     "metadata": {},
     "output_type": "execute_result"
    }
   ],
   "source": [
    "(mean_squared_error(y_test, AB.predict(X_test)))**.5"
   ]
  },
  {
   "cell_type": "code",
   "execution_count": 218,
   "metadata": {},
   "outputs": [
    {
     "data": {
      "text/plain": [
       "Text(0, 0.5, 'Predicted')"
      ]
     },
     "execution_count": 218,
     "metadata": {},
     "output_type": "execute_result"
    },
    {
     "data": {
      "image/png": "[encoded data removed]",
      "text/plain": [
       "<Figure size 432x288 with 1 Axes>"
      ]
     },
     "metadata": {
      "needs_background": "light"
     },
     "output_type": "display_data"
    }
   ],
   "source": [
    "plt.scatter(y_test,AB.predict(X_test), s=.005)\n",
    "plt.xlabel('Actual')\n",
    "plt.ylabel('Predicted')"
   ]
  },
  {
   "cell_type": "code",
   "execution_count": 215,
   "metadata": {},
   "outputs": [],
   "source": [
    "Importance = pd.DataFrame({'AB Import':AB.feature_importances_*100},\n",
    "                         index = X.columns)\n",
    "Import_df['Ab Import'] =Importance.sort_values('AB Import', ascending=False)[:5] # Display Top 10"
   ]
  },
  {
   "cell_type": "code",
   "execution_count": 178,
   "metadata": {},
   "outputs": [
    {
     "data": {
      "image/png": "[encoded data removed]",
      "text/plain": [
       "<Figure size 432x288 with 1 Axes>"
      ]
     },
     "metadata": {
      "needs_background": "light"
     },
     "output_type": "display_data"
    }
   ],
   "source": [
    "Import_df.plot.barh(color='r').invert_yaxis()\n",
    "plt.xlabel('Variable Importance')\n",
    "plt.gca().legend_ = None\n",
    "plt.grid()"
   ]
  },
  {
   "cell_type": "markdown",
   "metadata": {},
   "source": [
    "### XGBoost"
   ]
  },
  {
   "cell_type": "code",
   "execution_count": 208,
   "metadata": {},
   "outputs": [
    {
     "data": {
      "text/plain": [
       "XGBRegressor(base_score=0.5, booster='gbtree', colsample_bylevel=1,\n",
       "             colsample_bynode=1, colsample_bytree=1, gamma=0,\n",
       "             importance_type='gain', learning_rate=0.06, max_delta_step=0,\n",
       "             max_depth=3, min_child_weight=1, missing=None, n_estimators=600,\n",
       "             n_jobs=1, nthread=None, objective='reg:squarederror',\n",
       "             random_state=42, reg_alpha=0, reg_lambda=1, scale_pos_weight=1,\n",
       "             seed=None, silent=None, subsample=1, verbosity=1)"
      ]
     },
     "execution_count": 208,
     "metadata": {},
     "output_type": "execute_result"
    }
   ],
   "source": [
    "XGB = XGBRegressor(n_estimators=600, learning_rate=.06,random_state=42,objective ='reg:squarederror')\n",
    "XGB.fit(X_train,y_train)"
   ]
  },
  {
   "cell_type": "code",
   "execution_count": 209,
   "metadata": {},
   "outputs": [
    {
     "data": {
      "text/plain": [
       "0.38380896847367396"
      ]
     },
     "execution_count": 209,
     "metadata": {},
     "output_type": "execute_result"
    }
   ],
   "source": [
    "XGB.score(X_train, y_train)"
   ]
  },
  {
   "cell_type": "code",
   "execution_count": 210,
   "metadata": {},
   "outputs": [
    {
     "data": {
      "text/plain": [
       "31.946259907214863"
      ]
     },
     "execution_count": 210,
     "metadata": {},
     "output_type": "execute_result"
    }
   ],
   "source": [
    "mean_squared_error(y_test,XGB.predict(X_test))"
   ]
  },
  {
   "cell_type": "code",
   "execution_count": 219,
   "metadata": {},
   "outputs": [
    {
     "data": {
      "text/plain": [
       "Text(0, 0.5, 'Predicted')"
      ]
     },
     "execution_count": 219,
     "metadata": {},
     "output_type": "execute_result"
    },
    {
     "data": {
      "image/png": "[encoded data removed]",
      "text/plain": [
       "<Figure size 432x288 with 1 Axes>"
      ]
     },
     "metadata": {
      "needs_background": "light"
     },
     "output_type": "display_data"
    }
   ],
   "source": [
    "plt.scatter(y_test,XGB.predict(X_test), s=.005)\n",
    "plt.xlabel('Actual')\n",
    "plt.ylabel('Predicted')"
   ]
  },
  {
   "cell_type": "markdown",
   "metadata": {},
   "source": [
    "### KNN"
   ]
  },
  {
   "cell_type": "code",
   "execution_count": 202,
   "metadata": {},
   "outputs": [],
   "source": [
    "KNN = KNeighborsRegressor()"
   ]
  },
  {
   "cell_type": "code",
   "execution_count": 203,
   "metadata": {},
   "outputs": [
    {
     "data": {
      "text/plain": [
       "KNeighborsRegressor(algorithm='auto', leaf_size=30, metric='minkowski',\n",
       "                    metric_params=None, n_jobs=None, n_neighbors=5, p=2,\n",
       "                    weights='uniform')"
      ]
     },
     "execution_count": 203,
     "metadata": {},
     "output_type": "execute_result"
    }
   ],
   "source": [
    "KNN.fit(X_train, y_train) # Takes awhile"
   ]
  },
  {
   "cell_type": "code",
   "execution_count": 204,
   "metadata": {},
   "outputs": [
    {
     "data": {
      "text/plain": [
       "21.651318625490465"
      ]
     },
     "execution_count": 204,
     "metadata": {},
     "output_type": "execute_result"
    }
   ],
   "source": [
    "y_pred = KNN.predict(X_test)\n",
    "mean_squared_error(y_test,y_pred)"
   ]
  },
  {
   "cell_type": "markdown",
   "metadata": {},
   "source": [
    "## Grid Search!"
   ]
  },
  {
   "cell_type": "code",
   "execution_count": 59,
   "metadata": {},
   "outputs": [
    {
     "name": "stdout",
     "output_type": "stream",
     "text": [
      "{'n_estimators': [200, 400, 600, 800, 1000, 1200, 1400, 1600, 1800, 2000], 'max_features': ['auto', 'sqrt'], 'max_depth': [10, 20, 30, 40, 50, 60, 70, 80, 90, 100, 110, None], 'min_samples_split': [2, 5, 10], 'min_samples_leaf': [1, 2, 4], 'bootstrap': [True, False]}\n"
     ]
    }
   ],
   "source": [
    "'''# Stole this - Makes random parameters\n",
    "\n",
    "# Number of trees in random forest\n",
    "n_estimators = [int(x) for x in np.linspace(start = 200, stop = 2000, num = 10)]\n",
    "# Number of features to consider at every split\n",
    "max_features = ['auto', 'sqrt']\n",
    "# Maximum number of levels in tree\n",
    "max_depth = [int(x) for x in np.linspace(10, 110, num = 11)]\n",
    "max_depth.append(None)\n",
    "# Minimum number of samples required to split a node\n",
    "min_samples_split = [2, 5, 10]\n",
    "# Minimum number of samples required at each leaf node\n",
    "min_samples_leaf = [1, 2, 4]\n",
    "# Method of selecting samples for training each tree\n",
    "bootstrap = [True, False]# Create the random grid\n",
    "\n",
    "param_grid = {'n_estimators': n_estimators,\n",
    "               'max_features': max_features,\n",
    "               'max_depth': max_depth,\n",
    "               'min_samples_split': min_samples_split,\n",
    "               'min_samples_leaf': min_samples_leaf,\n",
    "               'bootstrap': bootstrap}\n",
    "\n",
    "print(param_grid)\n",
    "'''"
   ]
  },
  {
   "cell_type": "code",
   "execution_count": 57,
   "metadata": {},
   "outputs": [],
   "source": [
    "param_grid =  {'n_estimators': [1200],\n",
    "               'min_samples_split': [2],\n",
    "               'min_samples_leaf': [4],\n",
    "               'max_features': ['auto'],\n",
    "               'max_depth': [100],\n",
    "               'bootstrap': [True]}"
   ]
  },
  {
   "cell_type": "code",
   "execution_count": 58,
   "metadata": {},
   "outputs": [
    {
     "name": "stdout",
     "output_type": "stream",
     "text": [
      "Fitting 5 folds for each of 1 candidates, totalling 5 fits\n"
     ]
    },
    {
     "name": "stderr",
     "output_type": "stream",
     "text": [
      "[Parallel(n_jobs=-1)]: Using backend LokyBackend with 8 concurrent workers.\n",
      "[Parallel(n_jobs=-1)]: Done   2 out of   5 | elapsed: 66.4min remaining: 99.5min\n",
      "[Parallel(n_jobs=-1)]: Done   5 out of   5 | elapsed: 66.4min remaining:    0.0s\n",
      "[Parallel(n_jobs=-1)]: Done   5 out of   5 | elapsed: 66.4min finished\n"
     ]
    },
    {
     "data": {
      "text/plain": [
       "RandomizedSearchCV(cv=5, error_score=nan,\n",
       "                   estimator=RandomForestRegressor(bootstrap=True,\n",
       "                                                   ccp_alpha=0.0,\n",
       "                                                   criterion='mse',\n",
       "                                                   max_depth=None,\n",
       "                                                   max_features='auto',\n",
       "                                                   max_leaf_nodes=None,\n",
       "                                                   max_samples=None,\n",
       "                                                   min_impurity_decrease=0.0,\n",
       "                                                   min_impurity_split=None,\n",
       "                                                   min_samples_leaf=1,\n",
       "                                                   min_samples_split=2,\n",
       "                                                   min_weight_fraction_leaf=0.0,\n",
       "                                                   n_estimators=100,\n",
       "                                                   n_jobs=None, oob_score=False,\n",
       "                                                   random_state=None, verbose=0,\n",
       "                                                   warm_start=False),\n",
       "                   iid='deprecated', n_iter=1, n_jobs=-1,\n",
       "                   param_distributions={'bootstrap': [True], 'max_depth': [100],\n",
       "                                        'max_features': ['auto'],\n",
       "                                        'min_samples_leaf': [4],\n",
       "                                        'min_samples_split': [2],\n",
       "                                        'n_estimators': [1200]},\n",
       "                   pre_dispatch='2*n_jobs', random_state=42, refit=True,\n",
       "                   return_train_score=False, scoring=None, verbose=2)"
      ]
     },
     "execution_count": 58,
     "metadata": {},
     "output_type": "execute_result"
    }
   ],
   "source": [
    "#pipe = Pipeline([('RF', RandomForestRegressor())])\n",
    "RF = RandomForestRegressor()\n",
    "grid_RF = RandomizedSearchCV(estimator = RF, param_distributions = param_grid, \n",
    "                         n_iter = 1, cv = 5, verbose=2, random_state=42, n_jobs = -1)\n",
    "grid_RF.fit(X_train, y_train)"
   ]
  },
  {
   "cell_type": "code",
   "execution_count": null,
   "metadata": {},
   "outputs": [],
   "source": [
    "grid_RF.best_params_"
   ]
  },
  {
   "cell_type": "code",
   "execution_count": null,
   "metadata": {},
   "outputs": [],
   "source": [
    "'''Results\n",
    "{'n_estimators': 800,\n",
    " 'min_samples_split': 2,\n",
    " 'min_samples_leaf': 1,\n",
    " 'max_features': 'auto',\n",
    " 'max_depth': 100,\n",
    " 'bootstrap': True}\n",
    " \n",
    " # Round 2\n",
    " {'n_estimators': 1200,\n",
    " 'min_samples_split': 2,\n",
    " 'min_samples_leaf': 4,\n",
    " 'max_features': 'auto',\n",
    " 'max_depth': 100,\n",
    " 'bootstrap': True}\n",
    "'''"
   ]
  },
  {
   "cell_type": "code",
   "execution_count": 59,
   "metadata": {},
   "outputs": [
    {
     "data": {
      "text/plain": [
       "0.8088725148781474"
      ]
     },
     "execution_count": 59,
     "metadata": {},
     "output_type": "execute_result"
    }
   ],
   "source": [
    "grid_RF.score(X_test, y_test)"
   ]
  },
  {
   "cell_type": "code",
   "execution_count": 60,
   "metadata": {},
   "outputs": [],
   "source": [
    "y_pred = grid_RF.predict(X_test)\n",
    "y_pred_plt = grid_RF.predict(X_plt2)"
   ]
  },
  {
   "cell_type": "code",
   "execution_count": 241,
   "metadata": {},
   "outputs": [
    {
     "data": {
      "text/plain": [
       "array([1.99616695, 2.70685899, 2.08794838, 2.1570148 , 1.47710586,\n",
       "       1.22302227, 1.8451945 , 1.88017979, 1.55741724, 2.74412106])"
      ]
     },
     "execution_count": 241,
     "metadata": {},
     "output_type": "execute_result"
    }
   ],
   "source": [
    "y_pred_plt[:10]"
   ]
  },
  {
   "cell_type": "code",
   "execution_count": 61,
   "metadata": {},
   "outputs": [
    {
     "data": {
      "text/plain": [
       "3.1327209823359836"
      ]
     },
     "execution_count": 61,
     "metadata": {},
     "output_type": "execute_result"
    }
   ],
   "source": [
    "(mean_squared_error(y_test, y_pred))**.5"
   ]
  },
  {
   "cell_type": "code",
   "execution_count": 62,
   "metadata": {},
   "outputs": [
    {
     "data": {
      "text/plain": [
       "(array([1.24141e+05, 2.68540e+04, 1.12760e+04, 6.89700e+03, 4.53900e+03,\n",
       "        2.97200e+03, 2.10200e+03, 1.49400e+03, 1.09300e+03, 8.26000e+02,\n",
       "        6.87000e+02, 5.58000e+02, 4.13000e+02, 2.81000e+02, 2.33000e+02,\n",
       "        1.82000e+02, 1.21000e+02, 9.40000e+01, 7.70000e+01, 4.50000e+01,\n",
       "        3.70000e+01, 4.10000e+01, 1.30000e+01, 1.30000e+01, 1.20000e+01,\n",
       "        8.00000e+00, 1.00000e+01, 5.00000e+00, 0.00000e+00, 2.00000e+00]),\n",
       " array([ 1.00011905,  3.720717  ,  6.44131495,  9.16191291, 11.88251086,\n",
       "        14.60310882, 17.32370677, 20.04430472, 22.76490268, 25.48550063,\n",
       "        28.20609858, 30.92669654, 33.64729449, 36.36789244, 39.0884904 ,\n",
       "        41.80908835, 44.5296863 , 47.25028426, 49.97088221, 52.69148016,\n",
       "        55.41207812, 58.13267607, 60.85327402, 63.57387198, 66.29446993,\n",
       "        69.01506788, 71.73566584, 74.45626379, 77.17686175, 79.8974597 ,\n",
       "        82.61805765]),\n",
       " <a list of 30 Patch objects>)"
      ]
     },
     "execution_count": 62,
     "metadata": {},
     "output_type": "execute_result"
    },
    {
     "data": {
      "image/png": "[encoded data removed]",
      "text/plain": [
       "<Figure size 432x288 with 1 Axes>"
      ]
     },
     "metadata": {
      "needs_background": "light"
     },
     "output_type": "display_data"
    }
   ],
   "source": [
    "plt.hist(y_pred, bins=30)"
   ]
  },
  {
   "cell_type": "code",
   "execution_count": 63,
   "metadata": {},
   "outputs": [
    {
     "data": {
      "text/plain": [
       "Text(0, 0.5, 'Predicted')"
      ]
     },
     "execution_count": 63,
     "metadata": {},
     "output_type": "execute_result"
    },
    {
     "data": {
      "image/png": "[encoded data removed]",
      "text/plain": [
       "<Figure size 432x288 with 1 Axes>"
      ]
     },
     "metadata": {
      "needs_background": "light"
     },
     "output_type": "display_data"
    }
   ],
   "source": [
    "plt.scatter(y_test,y_pred, s = .1)\n",
    "plt.xlabel('Actual')\n",
    "plt.ylabel('Predicted')"
   ]
  },
  {
   "cell_type": "code",
   "execution_count": 64,
   "metadata": {},
   "outputs": [],
   "source": [
    "Importance = pd.DataFrame({'RF Import':grid_RF.best_estimator_.feature_importances_*100},\n",
    "                         index = X.columns)\n",
    "Import_df =Importance.sort_values('RF Import', ascending=False) # Display Top 15"
   ]
  },
  {
   "cell_type": "code",
   "execution_count": 65,
   "metadata": {},
   "outputs": [
    {
     "data": {
      "image/png": "[encoded data removed]",
      "text/plain": [
       "<Figure size 432x288 with 1 Axes>"
      ]
     },
     "metadata": {
      "needs_background": "light"
     },
     "output_type": "display_data"
    }
   ],
   "source": [
    "Import_df.plot.barh(color='r').invert_yaxis()\n",
    "plt.xlabel('Variable Importance')\n",
    "plt.gca().legend_ = None\n",
    "plt.grid()"
   ]
  },
  {
   "cell_type": "markdown",
   "metadata": {},
   "source": [
    "##  Use This to Create the DF For Animation"
   ]
  },
  {
   "cell_type": "code",
   "execution_count": 66,
   "metadata": {},
   "outputs": [],
   "source": [
    "df_plot = pd.DataFrame()\n",
    "\n",
    "df_plot = X_plt\n",
    "df_plot['act'] = y_plt\n",
    "df_plot['pred'] = y_pred_plt\n",
    "df_plot['over'] = df_plot['act'] - (df_plot['pred'])\n",
    "df_plot.loc[df_plot.over < 20, 'over'] = 0"
   ]
  },
  {
   "cell_type": "code",
   "execution_count": 72,
   "metadata": {},
   "outputs": [
    {
     "data": {
      "text/plain": [
       "9901"
      ]
     },
     "execution_count": 72,
     "metadata": {},
     "output_type": "execute_result"
    }
   ],
   "source": [
    "len(df_plot)"
   ]
  },
  {
   "cell_type": "code",
   "execution_count": 71,
   "metadata": {},
   "outputs": [
    {
     "data": {
      "text/plain": [
       "0.000000     9801\n",
       "25.642124       1\n",
       "33.427363       1\n",
       "37.281551       1\n",
       "35.317392       1\n",
       "             ... \n",
       "37.043735       1\n",
       "20.895312       1\n",
       "22.216994       1\n",
       "21.562899       1\n",
       "25.185447       1\n",
       "Name: over, Length: 101, dtype: int64"
      ]
     },
     "execution_count": 71,
     "metadata": {},
     "output_type": "execute_result"
    }
   ],
   "source": [
    "df_plot.over.value_counts()"
   ]
  },
  {
   "cell_type": "code",
   "execution_count": 73,
   "metadata": {},
   "outputs": [],
   "source": [
    "df_plot2 = df_plot[['X_Grid', 'Y_Grid', 'Hour', 'over', 'Level_2']]\n",
    "df_plot2.columns = ['grid_x','grid_y','time','count', 'Level_2']"
   ]
  },
  {
   "cell_type": "code",
   "execution_count": 74,
   "metadata": {},
   "outputs": [
    {
     "data": {
      "text/plain": [
       "74.23540444049667"
      ]
     },
     "execution_count": 74,
     "metadata": {},
     "output_type": "execute_result"
    }
   ],
   "source": [
    "max(df_plot2['count'])"
   ]
  },
  {
   "cell_type": "code",
   "execution_count": 75,
   "metadata": {},
   "outputs": [
    {
     "data": {
      "text/plain": [
       "<matplotlib.collections.PathCollection at 0x2b7aa059c88>"
      ]
     },
     "execution_count": 75,
     "metadata": {},
     "output_type": "execute_result"
    },
    {
     "data": {
      "image/png": "[encoded data removed]",
      "text/plain": [
       "<Figure size 432x288 with 1 Axes>"
      ]
     },
     "metadata": {
      "needs_background": "light"
     },
     "output_type": "display_data"
    }
   ],
   "source": [
    "plt.scatter(y_plt,y_pred_plt, s = .1)"
   ]
  },
  {
   "cell_type": "code",
   "execution_count": 76,
   "metadata": {},
   "outputs": [],
   "source": [
    "df_plot2.to_csv('pred_for_plot3.csv')"
   ]
  },
  {
   "cell_type": "code",
   "execution_count": null,
   "metadata": {},
   "outputs": [],
   "source": []
  }
 ],
 "metadata": {
  "kernelspec": {
   "display_name": "Python 3",
   "language": "python",
   "name": "python3"
  },
  "language_info": {
   "codemirror_mode": {
    "name": "ipython",
    "version": 3
   },
   "file_extension": ".py",
   "mimetype": "text/x-python",
   "name": "python",
   "nbconvert_exporter": "python",
   "pygments_lexer": "ipython3",
   "version": "3.7.6"
  }
 },
 "nbformat": 4,
 "nbformat_minor": 4
}
